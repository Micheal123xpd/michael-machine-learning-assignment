{
 "cells": [
  {
   "cell_type": "markdown",
   "id": "51d53ef5-1fc2-4e26-8409-3222e2014a05",
   "metadata": {},
   "source": [
    "#1.Data Types Example"
   ]
  },
  {
   "cell_type": "code",
   "execution_count": 4,
   "id": "1f27f582-68a7-4fc4-85f5-b5153c544fca",
   "metadata": {},
   "outputs": [
    {
     "name": "stdout",
     "output_type": "stream",
     "text": [
      "interger: 10\n",
      "Float: 3.14\n",
      "complex: (2+3j)\n",
      "String: Hello, Juipiter!\n",
      "Boolean: True\n"
     ]
    }
   ],
   "source": [
    "# Interger\n",
    "my_int =10\n",
    "print(\"interger:\",my_int)\n",
    "\n",
    "#Float\n",
    "my_float=3.14\n",
    "print(\"Float:\",my_float)\n",
    "\n",
    "#Complex\n",
    "my_complex = 2+ 3j\n",
    "print(\"complex:\",my_complex)\n",
    "\n",
    "#String\n",
    "my_string =\"Hello, Juipiter!\"\n",
    "print(\"String:\", my_string)\n",
    "\n",
    "#Boolen\n",
    "my_bool = True\n",
    "print(\"Boolean:\", my_bool)\n"
   ]
  },
  {
   "cell_type": "markdown",
   "id": "30d89872-2cca-49f2-a4aa-cd507a2b60bb",
   "metadata": {},
   "source": [
    "##2.Data structures Examples"
   ]
  },
  {
   "cell_type": "code",
   "execution_count": 10,
   "id": "47ab3e4b-181c-426a-a06e-7f67f0d9a2e4",
   "metadata": {},
   "outputs": [
    {
     "name": "stdout",
     "output_type": "stream",
     "text": [
      "list: {1, 2, 3, 4, 5}\n",
      "Tuple: (10, 20, 30)\n"
     ]
    },
    {
     "ename": "NameError",
     "evalue": "name 'my_set' is not defined",
     "output_type": "error",
     "traceback": [
      "\u001b[1;31m---------------------------------------------------------------------------\u001b[0m",
      "\u001b[1;31mNameError\u001b[0m                                 Traceback (most recent call last)",
      "Cell \u001b[1;32mIn[10], line 10\u001b[0m\n\u001b[0;32m      7\u001b[0m \u001b[38;5;28mprint\u001b[39m(\u001b[38;5;124m\"\u001b[39m\u001b[38;5;124mTuple:\u001b[39m\u001b[38;5;124m\"\u001b[39m,my_tuple)\n\u001b[0;32m      9\u001b[0m \u001b[38;5;66;03m#Set\u001b[39;00m\n\u001b[1;32m---> 10\u001b[0m my_set[\u001b[38;5;241m1\u001b[39m,\u001b[38;5;241m2\u001b[39m,\u001b[38;5;241m3\u001b[39m,\u001b[38;5;241m4\u001b[39m]\n\u001b[0;32m     11\u001b[0m \u001b[38;5;28mprint\u001b[39m(\u001b[38;5;124m\"\u001b[39m\u001b[38;5;124mset\u001b[39m\u001b[38;5;124m\"\u001b[39m, my_set)\n\u001b[0;32m     13\u001b[0m \u001b[38;5;66;03m#Dictionary\u001b[39;00m\n",
      "\u001b[1;31mNameError\u001b[0m: name 'my_set' is not defined"
     ]
    }
   ],
   "source": [
    "#list\n",
    "my_list={1,2,3,4,5}\n",
    "print(\"list:\",my_list)\n",
    "\n",
    "#Tuple\n",
    "my_tuple=(10,20,30)\n",
    "print(\"Tuple:\",my_tuple)\n",
    "\n",
    "#Set\n",
    "my_set[1,2,3,4]\n",
    "print(\"set\", my_set)\n",
    "\n",
    "#Dictionary\n",
    "my_dict={\"name\": \"Alice\", \"age\": 25,\"city\":\"New York\"}\n",
    "print(\"Dictionary:\",my_dict)"
   ]
  },
  {
   "cell_type": "code",
   "execution_count": null,
   "id": "172e3a49-b95c-45f0-8b0c-729277f5e409",
   "metadata": {},
   "outputs": [],
   "source": []
  }
 ],
 "metadata": {
  "kernelspec": {
   "display_name": "Python 3 (ipykernel)",
   "language": "python",
   "name": "python3"
  },
  "language_info": {
   "codemirror_mode": {
    "name": "ipython",
    "version": 3
   },
   "file_extension": ".py",
   "mimetype": "text/x-python",
   "name": "python",
   "nbconvert_exporter": "python",
   "pygments_lexer": "ipython3",
   "version": "3.13.5"
  }
 },
 "nbformat": 4,
 "nbformat_minor": 5
}
